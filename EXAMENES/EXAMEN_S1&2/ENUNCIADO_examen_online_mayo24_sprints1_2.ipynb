{
 "cells": [
  {
   "cell_type": "markdown",
   "id": "1f1401c1-4dc9-4902-95bf-160715a42a25",
   "metadata": {},
   "source": [
    "# Prueba de Ramp-up"
   ]
  },
  {
   "cell_type": "markdown",
   "id": "1b34c670-a6dd-482d-9b04-5babee7be17a",
   "metadata": {},
   "source": [
    "Antes de comenzar, cambia el nombre del archivo notebook poniéndole delante tu nombre y primer apellido:\n",
    "\n",
    "* nombre_apellido_examen_online_sprint1_2.ipynb"
   ]
  },
  {
   "cell_type": "code",
   "execution_count": 1,
   "id": "c8d9a657-272c-425a-9ac4-ea59f479673c",
   "metadata": {},
   "outputs": [],
   "source": [
    "# Escribe tu nombre en la variable:\n",
    "nombre_y_apellidos = \"Mikel Telo Anda\" "
   ]
  },
  {
   "cell_type": "code",
   "execution_count": 2,
   "id": "2e9f9af5-076c-44ec-9a80-95c0e99cdc58",
   "metadata": {},
   "outputs": [],
   "source": [
    "\"\"\"\n",
    "Criterios de corrección:\n",
    "\n",
    "ejecución (ausencia de errores y obtención de resultados)\n",
    "estructura del código\n",
    "uso correcto de variables\n",
    "manejo de tipo de variables\n",
    "asignaciones\n",
    "operaciones booleanas\n",
    "manejo lógico de flujos de control y bucles\n",
    "uso de colecciones\n",
    "uso de funciones\n",
    "\"\"\";\n",
    "\n",
    "# Ejemplo de como queremos ver el código para más de un intento:\n",
    "\n",
    "# intento 1\n",
    "#your code\n",
    "\n",
    "# intento 2\n",
    "#your code"
   ]
  },
  {
   "cell_type": "code",
   "execution_count": 3,
   "id": "bb16d0e3-3bb9-4f2b-944e-8fc35e628701",
   "metadata": {},
   "outputs": [],
   "source": [
    "# crea todas las celdas que necesites"
   ]
  },
  {
   "cell_type": "markdown",
   "id": "9e02b8f5-6f66-4e73-acfa-7f8c3977de2a",
   "metadata": {},
   "source": [
    "#### Notas y pruebas de apoyo para contestar las preguntas\n",
    "\n",
    "\n",
    "Cualquier código aunque no esté correcto nos dirá más de ti que no escribir nada. "
   ]
  },
  {
   "cell_type": "markdown",
   "id": "57d6b062-27f8-4377-b583-d662777b0bd7",
   "metadata": {},
   "source": [
    "__Debes subir tu examen resuelto a tu repo de GitHub cuando haya acabado este team challenge__"
   ]
  },
  {
   "cell_type": "markdown",
   "id": "062d81e8",
   "metadata": {},
   "source": [
    "#### Ejercicio 1\n",
    "\n",
    "Disponemos de una lista con información sobre varios empleados:\n",
    "\n",
    "    empleados = [[12345, \"Juan Rodríguez\", 53, [\"Director financiero\"], 2],[56789, \"Laura Pérez\", 41, [\"CEO\", \"Director\", \"Gerente\"], 2],[88354, \"Pedro Álvarez\", 26, [\"Asistente\",\"Gestor comercial\"], 3]]\n",
    "\n",
    "Respecto de cada empleado, la lista contiene cinco elementos: en el primero almacenamos su tfno, en el segundo su nombre, en el tercero su edad, en el cuarto los puestos que ha desempeñado en la empresa (en forma de lista) y en el quinto su código postal.\n",
    "\n",
    "1. Siguiendo la misma estructura, incluye un nuevo empleado en la última posición de la lista empleados.\n",
    "\n",
    "2. Mostrar por pantalla, sin uso de funciones (salvo print) ni bucles: \n",
    "\n",
    "    - El nombre y la edad del tercer empleado de la lista empleados.\n",
    "    - Los puestos desempeñados por Pedro Álvarez, ordenados de atras a adelante (es decir, de Gestor comercial a Asistente)\n",
    "    - Si el nuevo empleado que has añadido tiene más o igual a 60 años, muestra por pantalla los puestos que el nuevo empleado haya desempeñado en la empresa. En caso contrario, muestra los puestos desempeñados por Laura Pérez y Juan Rodriguez."
   ]
  },
  {
   "cell_type": "code",
   "execution_count": 4,
   "id": "ae316b4b",
   "metadata": {},
   "outputs": [
    {
     "name": "stdout",
     "output_type": "stream",
     "text": [
      "[[12345, 'Juan Rodríguez', 53, ['Director financiero'], 2], [56789, 'Laura Pérez', 41, ['CEO', 'Director', 'Gerente'], 2], [88354, 'Pedro Álvarez', 26, ['Asistente', 'Gestor comercial'], 3], [1234, 'Marina Gómez', 22, ['Asistente'], 1]]\n",
      "El tercer empleado se llama Pedro Álvarez y tiene 26 años\n",
      "['Gestor comercial', 'Asistente']\n",
      "Puestos desempeñados por Laura Pérez ['CEO', 'Director', 'Gerente']\n",
      "Puestos desempeñados por Juan Rodriguez ['Director financiero']\n"
     ]
    }
   ],
   "source": [
    "\n",
    "\n"
   ]
  },
  {
   "cell_type": "code",
   "execution_count": 1,
   "id": "02767c4b",
   "metadata": {},
   "outputs": [
    {
     "name": "stdout",
     "output_type": "stream",
     "text": [
      "Nombre del tercer empleado: Pedro Álvarez\n",
      "Edad del tercer empleado: 26\n",
      "Puestos de Pedro Álvarez en orden inverso: ['Gestor comercial', 'Asistente']\n",
      "Puestos del nuevo empleado: ['Ingeniera', 'Gerente de proyecto']\n"
     ]
    }
   ],
   "source": [
    "# Lista de empleados inicial\n",
    "empleados = [\n",
    "    [12345, \"Juan Rodríguez\", 53, [\"Director financiero\"], 2],\n",
    "    [56789, \"Laura Pérez\", 41, [\"CEO\", \"Director\", \"Gerente\"], 2],\n",
    "    [88354, \"Pedro Álvarez\", 26, [\"Asistente\", \"Gestor comercial\"], 3]\n",
    "]\n",
    "\n",
    "# Añadir un nuevo empleado\n",
    "nuevo_empleado = [98765, \"Ana García\", 65, [\"Ingeniera\", \"Gerente de proyecto\"], 4]\n",
    "empleados.append(nuevo_empleado)\n",
    "\n",
    "# Mostrar el nombre y la edad del tercer empleado\n",
    "print(f\"Nombre del tercer empleado: {empleados[2][1]}\")\n",
    "print(f\"Edad del tercer empleado: {empleados[2][2]}\")\n",
    "\n",
    "# Mostrar los puestos desempeñados por Pedro Álvarez en orden inverso\n",
    "print(f\"Puestos de Pedro Álvarez en orden inverso: {empleados[2][3][::-1]}\")\n",
    "\n",
    "# Mostrar los puestos del nuevo empleado si tiene más o igual a 60 años, de lo contrario mostrar los puestos de Laura Pérez y Juan Rodríguez\n",
    "if empleados[-1][2] >= 60:\n",
    "    print(f\"Puestos del nuevo empleado: {empleados[-1][3]}\")\n",
    "else:\n",
    "    print(f\"Puestos de Laura Pérez: {empleados[1][3]}\")\n",
    "    print(f\"Puestos de Juan Rodríguez: {empleados[0][3]}\")"
   ]
  },
  {
   "cell_type": "markdown",
   "id": "4da89624-0da3-4f91-aa5c-a084c5ee1b17",
   "metadata": {},
   "source": [
    "#### Ejercicio 2. \n",
    "\n",
    "Escribe un programa que te diga si una letra es una consonante o una vocal. Crea tu propia **FUNCIÓN**\n"
   ]
  },
  {
   "cell_type": "code",
   "execution_count": 5,
   "id": "c58bf610-92de-4a5a-a00d-652279ea33dd",
   "metadata": {},
   "outputs": [
    {
     "name": "stdout",
     "output_type": "stream",
     "text": [
      "f es una consonante.\n"
     ]
    }
   ],
   "source": []
  },
  {
   "cell_type": "code",
   "execution_count": 2,
   "id": "a45a9bee",
   "metadata": {},
   "outputs": [
    {
     "name": "stdout",
     "output_type": "stream",
     "text": [
      "La letra es una consonante.\n"
     ]
    }
   ],
   "source": [
    "def es_vocal_o_consonante(letra):\n",
    "    # Convertir la letra a minúscula para simplificar la comparación\n",
    "    letra = letra.lower()\n",
    "    \n",
    "    # Definir el conjunto de vocales\n",
    "    vocales = \"aeiou\"\n",
    "    \n",
    "    # Verificar si la letra es una vocal\n",
    "    if letra in vocales:\n",
    "        return \"La letra es una vocal.\"\n",
    "    elif letra.isalpha() and len(letra) == 1:\n",
    "        return \"La letra es una consonante.\"\n",
    "    else:\n",
    "        return \"Entrada no válida. Por favor, introduce una sola letra.\"\n",
    "\n",
    "# Solicitar al usuario que introduzca una letra\n",
    "letra = input(\"Introduce una letra: \")\n",
    "\n",
    "# Llamar a la función y mostrar el resultado\n",
    "resultado = es_vocal_o_consonante(letra)\n",
    "print(resultado)\n"
   ]
  },
  {
   "cell_type": "markdown",
   "id": "52065a6c-3d4c-44c0-a10b-958506c481b3",
   "metadata": {},
   "source": [
    "#### Ejercicio 3. \n",
    "\n",
    "Escribe un programa que calcule la edad humana de un perro.\n",
    "Tienes que pedirle al usuario la edad del perro en años.\n",
    "Si el usuario introduce un número negativo, imprime que la cifra facilitada no tiene sentido. Si el perro tiene un año, son 14 años humanos. Si tiene 2 años, son 22 años humanos.\n",
    "A partir de los 2 años, el cálculo es el siguiente: a la edad del perro se le restan 2 años, el resultado se multiplica por 5 y, finalmente, se le suma 22.\n",
    "Usa una función sin argumentos de entrada ni de salida (muestra toda la información con print())"
   ]
  },
  {
   "cell_type": "code",
   "execution_count": 10,
   "id": "9c59c801-1fe1-4a6d-a000-f85ca738ed00",
   "metadata": {},
   "outputs": [
    {
     "name": "stdout",
     "output_type": "stream",
     "text": [
      "La edad del perro en años humanos es: 27 años.\n"
     ]
    }
   ],
   "source": [
    "def calcular_edad_humana_perro():\n",
    "    # Solicitar al usuario que introduzca la edad del perro\n",
    "    edad_perro = int(input(\"Introduce la edad del perro en años solo numeros enteros sin coma: \"))\n",
    "    \n",
    "    # Verificar si la edad es un número negativo\n",
    "    if edad_perro < 0:\n",
    "        print(\"La cifra facilitada no tiene sentido.\")\n",
    "    elif edad_perro == 1:\n",
    "        print(\"La edad del perro en años humanos es: 14 años.\")\n",
    "    elif edad_perro == 2:\n",
    "        print(\"La edad del perro en años humanos es: 22 años.\")\n",
    "    else:\n",
    "        # Calcular la edad humana para perros con más de 2 años\n",
    "        edad_humana = (edad_perro - 2) * 5 + 22\n",
    "        print(f\"La edad del perro en años humanos es: {edad_humana} años.\")\n",
    "\n",
    "# Llamar a la función para ejecutar el programa\n",
    "calcular_edad_humana_perro()\n"
   ]
  },
  {
   "cell_type": "markdown",
   "id": "2991309f-4208-431a-900c-d9bc734bb936",
   "metadata": {},
   "source": [
    "#### Ejercicio 4. \n",
    "\n",
    "Escribe un programa que te diga si una frase es un pangrama. Un pangrama es una frase que contiene todas las letras del alfabeto.\n",
    "Puedes tener espacios en blanco, pero NO  tendrás signos de puntuación, a excepción de las tildes.\n",
    "\n",
    "Ejemplo de pangrama:\n",
    "\n",
    "Extraño pan de col y kiwi se quemó bajo fugaz vaho "
   ]
  },
  {
   "cell_type": "code",
   "execution_count": 8,
   "id": "9a349c1e-15ab-4253-97f8-2a07a263791d",
   "metadata": {},
   "outputs": [
    {
     "name": "stdout",
     "output_type": "stream",
     "text": [
      "True\n"
     ]
    }
   ],
   "source": [
    "\n"
   ]
  },
  {
   "cell_type": "code",
   "execution_count": 21,
   "id": "3327c75d",
   "metadata": {},
   "outputs": [
    {
     "name": "stdout",
     "output_type": "stream",
     "text": [
      "La frase no es un pangrama.\n"
     ]
    }
   ],
   "source": [
    "def es_pangrama(frase):\n",
    "    # Definir el alfabeto español, incluyendo letras con tildes\n",
    "    alfabeto = \"abcdefghijklmnñopqrstuvwxyz\"\n",
    "\n",
    "    # Convertir la frase a minúsculas y eliminar los espacios en blanco asi como tildes\n",
    "    frase = frase.lower().replace(\" \", \"\").replace(\"áéíóú\", \"aeiou\")\n",
    "\n",
    "    # Crear un conjunto de las letras únicas en la frase\n",
    "    letras_en_frase = set(frase)\n",
    "\n",
    "    # Verificar si todas las letras del alfabeto están en el conjunto de la frase\n",
    "    for letra in alfabeto:\n",
    "        if letra not in letras_en_frase:\n",
    "            return False\n",
    "\n",
    "    return True\n",
    "\n",
    "# Pedir al usuario que introduzca una frase\n",
    "frase_usuario = input(\"Introduce una frase: \")\n",
    "\n",
    "# Verificar si la frase es un pangrama\n",
    "if es_pangrama(frase_usuario):\n",
    "    print(\"La frase es un pangrama.\")\n",
    "else:\n",
    "    print(\"La frase no es un pangrama.\")\n",
    "\n"
   ]
  },
  {
   "cell_type": "markdown",
   "id": "3dbb76e0-79b2-45e8-9034-58ee9cbd82bb",
   "metadata": {},
   "source": [
    "#### Ejercicio 5. \n",
    "\n",
    "Escribe un programa que use diccionarios para traducir palabras entre varios idiomas.\n",
    "Deberás pedirle al usuario una palabra por teclado, ver si está en tu diccionario. En caso de que esté, deberás mostrar la traducción de esa palabra.\n",
    "\n",
    "Ejemplo de diccionario:\n",
    "\n",
    "```python\n",
    "{\"file\": \"Fichier\", \"new\": \"Nouveau\", \"open\": \"Ouvrir\", \"save\": \"Enregistrer\", \"save as\": \"Enregistrer sous\", \"print preview\": \"Apercu avant impressioner\", \"print\": \"Imprimer\", \"close\": \"Fermer\", \"exit\": \"Quitter\"}"
   ]
  },
  {
   "cell_type": "code",
   "execution_count": null,
   "id": "6117d047",
   "metadata": {},
   "outputs": [],
   "source": []
  },
  {
   "cell_type": "code",
   "execution_count": 29,
   "id": "88236123-e8ac-45da-87d0-134a88a690c1",
   "metadata": {},
   "outputs": [
    {
     "name": "stdout",
     "output_type": "stream",
     "text": [
      "La traducción de 'file' al francés es: 'Fichier'.\n"
     ]
    }
   ],
   "source": [
    "def traducir_palabra():\n",
    "    # Definir los diccionarios de traducción\n",
    "    diccionario_ingles_frances = {\n",
    "        \"file\": \"Fichier\",\n",
    "        \"new\": \"Nouveau\",\n",
    "        \"open\": \"Ouvrir\",\n",
    "        \"save\": \"Enregistrer\",\n",
    "        \"save as\": \"Enregistrer sous\",\n",
    "        \"print preview\": \"Aperçu avant impression\",\n",
    "        \"print\": \"Imprimer\",\n",
    "        \"close\": \"Fermer\",\n",
    "        \"exit\": \"Quitter\"\n",
    "    }\n",
    "    \n",
    "    diccionario_frances_ingles = {v: k for k, v in diccionario_ingles_frances.items()}  # Crear diccionario inverso\n",
    "\n",
    "    # Solicitar al usuario que introduzca una palabra y el idioma\n",
    "    palabra = input(\"Introduce una palabra: \").lower()\n",
    "    idioma = input(\"¿Es esta palabra en inglés o en francés? (inglés/francés): \").lower()\n",
    "\n",
    "    # Traducir la palabra\n",
    "    if idioma == \"inglés\":\n",
    "        if palabra in diccionario_ingles_frances:\n",
    "            print(f\"La traducción de '{palabra}' al francés es: '{diccionario_ingles_frances[palabra]}'.\")\n",
    "        else:\n",
    "            print(f\"La palabra '{palabra}' no está en el diccionario inglés-francés.\")\n",
    "    elif idioma == \"francés\":\n",
    "        if palabra in diccionario_frances_ingles:\n",
    "            print(f\"La traducción de '{palabra}' al inglés es: '{diccionario_frances_ingles[palabra]}'.\")\n",
    "        else:\n",
    "            print(f\"La palabra '{palabra}' no está en el diccionario francés-inglés.\")\n",
    "    else:\n",
    "        print(\"El idioma especificado no es válido.\")\n",
    "\n",
    "# Llamar a la función para ejecutar el programa\n",
    "traducir_palabra()\n"
   ]
  },
  {
   "cell_type": "markdown",
   "id": "61967ca4-7e06-44b3-ad7b-adbc0e71671a",
   "metadata": {},
   "source": [
    "#### Ejercicio 6.\n",
    "\n",
    "Usando objetos modela un theremin (es un instrumento musical que se toca modificando el campo electromagnético, por si tenías curiosidad).\n",
    "Tendrá de atributos la marca, el modelo, el peso, la potencia y la batería.\n",
    "\n",
    "Todos los instrumentos se crean con un peso predeterminado de 500, una potencia de 50 y una batería de 200.\n",
    "\n",
    "Cuando se recarga la batería vale 200.\n",
    "\n",
    "Cuando se toca, se muestra por pantalla que está sonando y la batería disminuye 10 (no siendo nunca negativo).\n",
    "Si no hay batería, no puede sonar. Crea un instrumento, tócalo mientras quede batería, cárgalo y no lo vuelvas a tocar.\n"
   ]
  },
  {
   "cell_type": "code",
   "execution_count": 10,
   "id": "8082c8cd-03a9-478e-aa72-4ec1306e1bb2",
   "metadata": {},
   "outputs": [
    {
     "name": "stdout",
     "output_type": "stream",
     "text": [
      "El theremin modelo_molon está tocando.\n",
      "El theremin modelo_molon está tocando.\n",
      "El theremin modelo_molon está tocando.\n",
      "El theremin modelo_molon está tocando.\n",
      "El theremin modelo_molon está tocando.\n",
      "El theremin modelo_molon está tocando.\n",
      "El theremin modelo_molon está tocando.\n",
      "El theremin modelo_molon está tocando.\n",
      "El theremin modelo_molon está tocando.\n",
      "El theremin modelo_molon está tocando.\n",
      "El theremin modelo_molon está tocando.\n",
      "El theremin modelo_molon está tocando.\n",
      "El theremin modelo_molon está tocando.\n",
      "El theremin modelo_molon está tocando.\n",
      "El theremin modelo_molon está tocando.\n",
      "El theremin modelo_molon está tocando.\n",
      "El theremin modelo_molon está tocando.\n",
      "El theremin modelo_molon está tocando.\n",
      "El theremin modelo_molon está tocando.\n",
      "El theremin modelo_molon está tocando.\n",
      "El theremin modelo_molon no tiene batería.\n",
      "Bateria llena.\n"
     ]
    }
   ],
   "source": [
    "\n"
   ]
  },
  {
   "cell_type": "code",
   "execution_count": 46,
   "id": "a03bb8b5",
   "metadata": {},
   "outputs": [
    {
     "name": "stdout",
     "output_type": "stream",
     "text": [
      "El Theremin Therekiller T1000 está sonando...\n",
      "Theremin: Therekiller T1000 sonando, batería restante: 190\n",
      "Theremin: Therekiller T1000 sonando, batería restante: 180\n",
      "Theremin: Therekiller T1000 sonando, batería restante: 170\n",
      "Theremin: Therekiller T1000 sonando, batería restante: 160\n",
      "Theremin: Therekiller T1000 sonando, batería restante: 150\n",
      "Theremin: Therekiller T1000 sonando, batería restante: 140\n",
      "Theremin: Therekiller T1000 sonando, batería restante: 130\n",
      "Theremin: Therekiller T1000 sonando, batería restante: 120\n",
      "Theremin: Therekiller T1000 sonando, batería restante: 110\n",
      "Theremin: Therekiller T1000 sonando, batería restante: 100\n",
      "Theremin: Therekiller T1000 sonando, batería restante: 90\n",
      "Theremin: Therekiller T1000 sonando, batería restante: 80\n",
      "Theremin: Therekiller T1000 sonando, batería restante: 70\n",
      "Theremin: Therekiller T1000 sonando, batería restante: 60\n",
      "Theremin: Therekiller T1000 sonando, batería restante: 50\n",
      "Theremin: Therekiller T1000 sonando, batería restante: 40\n",
      "Theremin: Therekiller T1000 sonando, batería restante: 30\n",
      "Theremin: Therekiller T1000 sonando, batería restante: 20\n",
      "Theremin: Therekiller T1000 sonando, batería restante: 10\n",
      "Theremin: Therekiller T1000 sonando, batería restante: 0\n",
      "El Theremin ha dejado de sonar porque la batería se ha agotado. Que paz :=)\n",
      "La batería del Therekiller T1000 ha sido recargada a tope. Guardarlo y no lo activeis porfa\n"
     ]
    }
   ],
   "source": [
    "class Theremin:\n",
    "    def __init__(self, marca, modelo):\n",
    "        self.marca = marca\n",
    "        self.modelo = modelo\n",
    "        self.peso = 500\n",
    "        self.potencia = 50\n",
    "        self.bateria = 200\n",
    "\n",
    "    def recargar_bateria(self):\n",
    "        self.bateria = 200\n",
    "        print(f\"La batería del {self.marca} {self.modelo} ha sido recargada a tope. Guardarlo y no lo activeis porfa\")\n",
    "\n",
    "    def tocar(self):\n",
    "        if self.bateria > 0:\n",
    "            print(f\"El Theremin {self.marca} {self.modelo} está sonando...\")\n",
    "            while self.bateria > 0:\n",
    "                self.bateria -= 10\n",
    "                if self.bateria < 0:\n",
    "                    self.bateria = 0\n",
    "                print(f\"Theremin: {self.marca} {self.modelo} sonando, batería restante: {self.bateria}\")\n",
    "            print(\"El Theremin ha dejado de sonar porque la batería se ha agotado. Que paz :=)\")\n",
    "            self.recargar_bateria()  # Recargar la batería al finalizar de tocar\n",
    "        else:\n",
    "            print(f\"No hay suficiente batería para tocar el Theremin {self.marca} {self.modelo}.\")\n",
    "            self.recargar_bateria()  # Recargar la batería si no hay suficiente para tocar\n",
    "\n",
    "# Crear un objeto Theremin\n",
    "mi_theremin = Theremin(\"Therekiller\", \"T1000\")\n",
    "\n",
    "# Tocar el Theremin\n",
    "mi_theremin.tocar()\n",
    "\n",
    "\n",
    "\n"
   ]
  },
  {
   "cell_type": "markdown",
   "id": "30f773b5-a6da-4446-b36b-722b2ee57730",
   "metadata": {},
   "source": [
    "#### Ejercicio 7 EXTRA, NO PUNTÚA\n",
    "Una empresa usa dos listas  para guardar la información de sus empleados. Una lista guarda el nombre del empleado y la otra guarda su salario. Escribe un programa que cree esas dos listas originalmente vacías y que a través de un menú pueda hacer lo siguiente:\n",
    "    \n",
    "Inserta 1 para añadir un nuevo empleado y su salario\n",
    "\n",
    "Inserta 2 para imprimir los nombres y salarios de todos los empleados\n",
    "\n",
    "Inserta 3 para mostrar el número de empleados\n",
    "\n",
    "Inserta 4 para imprimir los nombres de los empleados con sueldos superiores a 400000\n",
    "\n",
    "Inserta 5 para subir un 5% los sueldos por debajo de 10000\n",
    "\n",
    "Inserta 6 para mostrar el total de todos los salarios\n",
    "\n",
    "Inserta 7 para salir del programa"
   ]
  },
  {
   "cell_type": "code",
   "execution_count": 11,
   "id": "67858e27-b7f5-4e05-bc50-3fca698ad22a",
   "metadata": {},
   "outputs": [
    {
     "name": "stdout",
     "output_type": "stream",
     "text": [
      "\n",
      "\n",
      "¡Bienvenido!\n",
      "\n",
      "Inserta 1 para añadir un nuevo empleado y su salario\n",
      "Inserta 2 para imprimir los nombres y salarios de todos los empleados\n",
      "Inserta 3 para mostrar el número de empleados\n",
      "Inserta 4 para imprimir los nombres de los empleados con sueldos superiores a 400000\n",
      "Inserta 5 para subir un 5% los sueldos por debajo de 10000\n",
      "Inserta 6 para mostrar el total de todos los salarios\n",
      "Inserta 7 para salir del programa\n",
      "\n",
      "    \n",
      "\n",
      "Suma de todos los sueldos:  10000\n",
      "\n",
      "Cantidad de empleados:  1\n",
      "\n",
      "¡Gracias por usar el programa!\n"
     ]
    }
   ],
   "source": []
  },
  {
   "cell_type": "markdown",
   "id": "e33a0e21-476e-4103-b889-a6b3e76b99f3",
   "metadata": {},
   "source": [
    "\n",
    "####  Ejercicio 8, EXTRA, NO PUNTÚA.\n",
    "\n",
    "Escribe un programa que __USE RECURSIVIDAD__ para decidir cuál es la película de Pixar favorita de un usuario.\n",
    "El programa preguntará al usuario cuál de 2 películas es su favorita, y con esa favorita se le volverá a preguntar entre esa y otra película cuál es su favorita...y así hasta que el usuario haya decidido de entre todas cuál es su favorita.\n",
    "\n",
    "Pista: si no quieres cambiar una lista, usa copy() y tendrás una copia que es otro objeto\n",
    "\n"
   ]
  },
  {
   "cell_type": "code",
   "execution_count": 12,
   "id": "c9936fd4-6d29-4535-9f34-a6f289d18d8b",
   "metadata": {},
   "outputs": [
    {
     "name": "stdout",
     "output_type": "stream",
     "text": [
      "Si prefieres Toy Story marca 1, si prefieres Soul marca 2: 1\n",
      "Prefieres Toy Story\n",
      "Si prefieres Toy Story marca 1, si prefieres Up marca 2: 2\n",
      "Prefieres Up\n",
      "Si prefieres Up marca 1, si prefieres Coco marca 2: 2\n",
      "Prefieres Coco\n",
      "Si prefieres Coco marca 1, si prefieres Luca marca 2: 1\n",
      "Prefieres Coco\n",
      "Si prefieres Coco marca 1, si prefieres Monsters marca 2: 2\n",
      "Prefieres Monsters\n",
      "Si prefieres Monsters marca 1, si prefieres Inside Out marca 2: 1\n",
      "Prefieres Monsters\n",
      "Si prefieres Monsters marca 1, si prefieres WallE marca 2: 2\n",
      "Prefieres WallE\n",
      "Si prefieres WallE marca 1, si prefieres Buscando a Nemo marca 2: 2\n",
      "Prefieres Buscando a Nemo\n",
      "Si prefieres Buscando a Nemo marca 1, si prefieres Los increíbles marca 2: 1\n",
      "Prefieres Buscando a Nemo\n",
      "\n",
      "Prefieres finalmente Buscando a Nemo\n"
     ]
    }
   ],
   "source": [
    "\n",
    "\n",
    "            "
   ]
  },
  {
   "cell_type": "code",
   "execution_count": null,
   "id": "e0264a74-638f-4a82-95a0-cddee11253b7",
   "metadata": {},
   "outputs": [],
   "source": []
  },
  {
   "cell_type": "code",
   "execution_count": 1,
   "id": "10a7b881",
   "metadata": {},
   "outputs": [],
   "source": [
    "# FIN DEL EXAMEN\n",
    "\n"
   ]
  }
 ],
 "metadata": {
  "kernelspec": {
   "display_name": "Python 3 (ipykernel)",
   "language": "python",
   "name": "python3"
  },
  "language_info": {
   "codemirror_mode": {
    "name": "ipython",
    "version": 3
   },
   "file_extension": ".py",
   "mimetype": "text/x-python",
   "name": "python",
   "nbconvert_exporter": "python",
   "pygments_lexer": "ipython3",
   "version": "3.12.3"
  },
  "vscode": {
   "interpreter": {
    "hash": "252189e587d1e2aeba4a06e91fa71896c7a7f6e22e918b9407c7cde4ef2d5985"
   }
  }
 },
 "nbformat": 4,
 "nbformat_minor": 5
}
