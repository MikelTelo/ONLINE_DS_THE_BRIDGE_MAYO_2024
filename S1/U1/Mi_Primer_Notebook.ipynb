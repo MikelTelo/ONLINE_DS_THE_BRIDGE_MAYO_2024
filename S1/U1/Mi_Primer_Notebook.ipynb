{
 "cells": [
  {
   "cell_type": "code",
   "execution_count": null,
   "id": "76d6b5ea-829b-45db-ab4d-4cbacd4e7919",
   "metadata": {},
   "outputs": [],
   "source": []
  }
 ],
 "metadata": {
  "kernelspec": {
   "display_name": "",
   "name": ""
  },
  "language_info": {
   "name": ""
  }
 },
 "nbformat": 4,
 "nbformat_minor": 5
}
